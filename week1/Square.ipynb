{
 "cells": [
  {
   "cell_type": "code",
   "execution_count": null,
   "metadata": {},
   "outputs": [],
   "source": [
    "list = [0, 1, 2, 3, 4, 5, 6, 7, 8, 9] #we first create a list\n",
    "for i in list: #I will go in every element of my list; i is also used for index. we want to iterate over that list, for loops are also used for iteration over each element of the list\n",
    "    print(i)# meaning I will go in  and print every element of my list\n",
    "    print(i*i) #print i square i\n",
    "    print()\n",
    "print(\"Loop over\")"
   ]
  },
  {
   "cell_type": "code",
   "execution_count": null,
   "metadata": {},
   "outputs": [],
   "source": [
    "#Range\n",
    "for i in range(10): #the range function does is to return this range of number, if we put in 10 it will return 10 values\n",
    "    print(i)# meaning I will go in  and print every element of my list\n",
    "    print(i*i*i) #print i square i\n",
    "    print()\n",
    "print(\"Loop over\")"
   ]
  },
  {
   "cell_type": "code",
   "execution_count": 14,
   "metadata": {},
   "outputs": [
    {
     "name": "stdout",
     "output_type": "stream",
     "text": [
      "25.0\n"
     ]
    }
   ],
   "source": [
    "def calculateAverage(list):\n",
    "    sum = 0;\n",
    "    for i in list:\n",
    "        sum = sum + i;\n",
    "\n",
    "    return sum/len(list)\n",
    "\n",
    "ages = [10, 20, 30, 40]\n",
    "\n",
    "print(calculateAverage(ages))\n"
   ]
  }
 ],
 "metadata": {
  "kernelspec": {
   "display_name": "Python 3.9.12 ('base')",
   "language": "python",
   "name": "python3"
  },
  "language_info": {
   "codemirror_mode": {
    "name": "ipython",
    "version": 3
   },
   "file_extension": ".py",
   "mimetype": "text/x-python",
   "name": "python",
   "nbconvert_exporter": "python",
   "pygments_lexer": "ipython3",
   "version": "3.9.12"
  },
  "orig_nbformat": 4,
  "vscode": {
   "interpreter": {
    "hash": "6f5d0df51896c0b4a11527df400b96e475926d3b0bd95a9ee0a252ce76c6766a"
   }
  }
 },
 "nbformat": 4,
 "nbformat_minor": 2
}
