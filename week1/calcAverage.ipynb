{
 "cells": [
  {
   "cell_type": "code",
   "execution_count": 11,
   "metadata": {},
   "outputs": [
    {
     "name": "stdout",
     "output_type": "stream",
     "text": [
      "250.0\n"
     ]
    }
   ],
   "source": []
  },
  {
   "cell_type": "code",
   "execution_count": null,
   "metadata": {},
   "outputs": [],
   "source": [
    "#calc average\n",
    "\n",
    "ages = [10, 20, 30, 40]\n",
    "incomes = [100, 200, 300, 400]\n",
    "\n",
    "def calculateAverage(list): #calculateAverage is a function wich we create so we don't have to repeat ourselfs. \n",
    "    sum = 0;\n",
    "    for i in list:\n",
    "        sum = sum + i;\n",
    "\n",
    "    return sum/len(list)\n",
    "\n",
    "print(calculateAverage(incomes))"
   ]
  },
  {
   "cell_type": "code",
   "execution_count": null,
   "metadata": {},
   "outputs": [],
   "source": []
  }
 ],
 "metadata": {
  "kernelspec": {
   "display_name": "Python 3.9.12 ('base')",
   "language": "python",
   "name": "python3"
  },
  "language_info": {
   "codemirror_mode": {
    "name": "ipython",
    "version": 3
   },
   "file_extension": ".py",
   "mimetype": "text/x-python",
   "name": "python",
   "nbconvert_exporter": "python",
   "pygments_lexer": "ipython3",
   "version": "3.9.12"
  },
  "orig_nbformat": 4,
  "vscode": {
   "interpreter": {
    "hash": "6f5d0df51896c0b4a11527df400b96e475926d3b0bd95a9ee0a252ce76c6766a"
   }
  }
 },
 "nbformat": 4,
 "nbformat_minor": 2
}
