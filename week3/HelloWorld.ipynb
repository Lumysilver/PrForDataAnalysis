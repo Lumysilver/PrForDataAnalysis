{
 "cells": [
  {
   "cell_type": "code",
   "execution_count": 7,
   "metadata": {},
   "outputs": [
    {
     "name": "stdout",
     "output_type": "stream",
     "text": [
      "Check if it's Tuesday\n"
     ]
    }
   ],
   "source": [
    "import datetime\n",
    "\n",
    "#my first Python Program\n",
    "print(\"Check if it's Tuesday\")"
   ]
  },
  {
   "cell_type": "code",
   "execution_count": 8,
   "metadata": {},
   "outputs": [],
   "source": [
    "today = datetime.datetime.today()\n",
    "today.weekday # which day of the week it is; extract from weekday today. Days of the weeks are from 0 to 6, 6 is Sunday\n",
    "dayofWeek = today.weekday() #store  avariable as a dayofWeek"
   ]
  },
  {
   "cell_type": "code",
   "execution_count": 9,
   "metadata": {},
   "outputs": [
    {
     "name": "stdout",
     "output_type": "stream",
     "text": [
      "It's Not Tuesday\n"
     ]
    }
   ],
   "source": [
    "if dayofWeek == 1:\n",
    "    print (\"It's Tuesday\")\n",
    "elif dayofWeek == 2:\n",
    "    print(\"It's Wendsday\")\n",
    "else: #this is regardless of if statement\n",
    "    print(\"It's Not Tuesday\")"
   ]
  }
 ],
 "metadata": {
  "kernelspec": {
   "display_name": "Python 3.9.12 ('base')",
   "language": "python",
   "name": "python3"
  },
  "language_info": {
   "codemirror_mode": {
    "name": "ipython",
    "version": 3
   },
   "file_extension": ".py",
   "mimetype": "text/x-python",
   "name": "python",
   "nbconvert_exporter": "python",
   "pygments_lexer": "ipython3",
   "version": "3.9.12"
  },
  "orig_nbformat": 4,
  "vscode": {
   "interpreter": {
    "hash": "6f5d0df51896c0b4a11527df400b96e475926d3b0bd95a9ee0a252ce76c6766a"
   }
  }
 },
 "nbformat": 4,
 "nbformat_minor": 2
}
