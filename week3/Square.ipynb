{
 "cells": [
  {
   "cell_type": "code",
   "execution_count": 3,
   "metadata": {},
   "outputs": [
    {
     "name": "stdout",
     "output_type": "stream",
     "text": [
      "0\n",
      "0\n",
      "\n",
      "1\n",
      "1\n",
      "\n",
      "2\n",
      "4\n",
      "\n",
      "3\n",
      "9\n",
      "\n",
      "4\n",
      "16\n",
      "\n",
      "5\n",
      "25\n",
      "\n",
      "6\n",
      "36\n",
      "\n",
      "7\n",
      "49\n",
      "\n",
      "8\n",
      "64\n",
      "\n",
      "9\n",
      "81\n",
      "\n",
      "Loop over\n"
     ]
    }
   ],
   "source": [
    "list = [0, 1, 2, 3, 4, 5, 6, 7, 8, 9]\n",
    "for i in list:\n",
    "    print(i)# meaning I will go in  and print every element of my list\n",
    "    print(i*i) \n",
    "    print()\n",
    "print(\"Loop over\")"
   ]
  },
  {
   "cell_type": "code",
   "execution_count": 4,
   "metadata": {},
   "outputs": [
    {
     "name": "stdout",
     "output_type": "stream",
     "text": [
      "25.0\n"
     ]
    }
   ],
   "source": [
    "def calculateAverage(list):\n",
    "    sum = 0;\n",
    "    for i in list:\n",
    "        sum = sum + i;\n",
    "\n",
    "    return sum/len(list)\n",
    "\n",
    "ages = [10, 20, 30, 40]\n",
    "\n",
    "print(calculateAverage(ages))\n"
   ]
  }
 ],
 "metadata": {
  "kernelspec": {
   "display_name": "Python 3.9.12 ('base')",
   "language": "python",
   "name": "python3"
  },
  "language_info": {
   "codemirror_mode": {
    "name": "ipython",
    "version": 3
   },
   "file_extension": ".py",
   "mimetype": "text/x-python",
   "name": "python",
   "nbconvert_exporter": "python",
   "pygments_lexer": "ipython3",
   "version": "3.9.12"
  },
  "orig_nbformat": 4,
  "vscode": {
   "interpreter": {
    "hash": "6f5d0df51896c0b4a11527df400b96e475926d3b0bd95a9ee0a252ce76c6766a"
   }
  }
 },
 "nbformat": 4,
 "nbformat_minor": 2
}
